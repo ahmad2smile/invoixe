{
 "cells": [
  {
   "cell_type": "code",
   "execution_count": 18,
   "id": "e9cb6250-2f1d-42c3-8dc6-b569feb44b32",
   "metadata": {},
   "outputs": [
    {
     "data": {
      "text/plain": [
       "True"
      ]
     },
     "execution_count": 18,
     "metadata": {},
     "output_type": "execute_result"
    }
   ],
   "source": [
    "from PyPDF2 import PdfReader\n",
    "import spacy\n",
    "from spacy.matcher import Matcher\n",
    "from spacy import displacy\n",
    "spacy.prefer_gpu()"
   ]
  },
  {
   "cell_type": "code",
   "execution_count": 19,
   "id": "ed3dae40-a682-4814-8fb4-961abd1a60ad",
   "metadata": {},
   "outputs": [],
   "source": [
    "reader = PdfReader('example-de.pdf')\n",
    "text = reader.pages[0].extract_text()"
   ]
  },
  {
   "cell_type": "code",
   "execution_count": 20,
   "id": "86629eed-0240-4ba4-8727-76408d4492e0",
   "metadata": {},
   "outputs": [],
   "source": [
    "nlp = spacy.load('en_core_web_trf')\n",
    "doc = nlp(text)"
   ]
  },
  {
   "cell_type": "raw",
   "id": "f4ed2463-32ae-4366-8f9c-19b91790c8f5",
   "metadata": {},
   "source": [
    "displacy.render(doc, style='ent')"
   ]
  },
  {
   "cell_type": "code",
   "execution_count": 21,
   "id": "c8ec4963-afed-4c93-8bae-b71dce451df9",
   "metadata": {},
   "outputs": [],
   "source": [
    "# ruler = nlp.add_pipe(\"entity_ruler\")\n",
    "\n",
    "# matcher = Matcher(nlp.vocab)\n",
    "# patterns = [{\"label\": \"ORG\"},{\"label\":\"PERSON\"}]\n",
    "# ruler.add_patterns(patterns)"
   ]
  },
  {
   "cell_type": "code",
   "execution_count": 22,
   "id": "aee73b2e-55f4-44c1-9332-adb5f82e21bc",
   "metadata": {},
   "outputs": [
    {
     "name": "stdout",
     "output_type": "stream",
     "text": [
      "[]\n"
     ]
    }
   ],
   "source": [
    "print([(ent.text, ent.label_) for ent in doc.ents])"
   ]
  },
  {
   "cell_type": "code",
   "execution_count": 23,
   "id": "a80e1520-6375-450c-9ad6-f6b71f91a972",
   "metadata": {},
   "outputs": [
    {
     "name": "stderr",
     "output_type": "stream",
     "text": [
      "/home/_050313/.local/lib/python3.10/site-packages/spacy/displacy/__init__.py:211: UserWarning: [W006] No entities to visualize found in Doc object. If this is surprising to you, make sure the Doc was processed using a model that supports named entity recognition, and check the `doc.ents` property manually if necessary.\n",
      "  warnings.warn(Warnings.W006)\n"
     ]
    },
    {
     "data": {
      "text/html": [
       "<span class=\"tex2jax_ignore\"><div class=\"entities\" style=\"line-height: 2.5; direction: ltr\">everdrop GmbH, Isarwinkel 4, 81379 München</br>Naho Shiina</br>Aachenerstraße 2</br>2</br>80804 MünchenVielen Dank, dass Du mit uns gemeinsam die Welt ein</br>bisschen sauberer machst.</br>Rechnung</br>22.08.2022 Zahldatum</br>Versanddatum 24.08.2022</br>Zahlart BraintreeRechnungsdatum 22.08.2022</br>Bestelldatum 22.08.2022</br>Referenz #1142923523Rechnung 800-854973</br>Pos Artikel Anzahl Preis Summe</br>1Vollwaschmittel - hart</br>hart</br>shipping_interval_unit_type: day1,00 12,44 € 12,44 €</br>2Colorwaschmittel - hart</br>hart1,00 12,44 € 12,44 €</br>24,88 € Gesamtsumme3,97 € Umsatzsteuer  (19,0%)Gesamt netto 20,91 €Zwischensumme 24,88 €</br>Diese Rechnung wurde bereits beglichen.</br>Bei Fragen zu deiner Rechnung, wende dich bitte an info@everdrop.de</br>everdrop GmbH - Isarwinkel 4, 81379  München</br>Tel:+49 89 2488774 10 - E-Mail: info@everdrop.de - Web: www.everdrop.de</br>Geschäftsführer: David Löwe, Christian Becker - HR München: HRB 253295 - USt-ID: DE327673069</div></span>"
      ],
      "text/plain": [
       "<IPython.core.display.HTML object>"
      ]
     },
     "metadata": {},
     "output_type": "display_data"
    }
   ],
   "source": [
    "displacy.render(doc, style=\"ent\")"
   ]
  },
  {
   "cell_type": "code",
   "execution_count": null,
   "id": "410332b4-1235-40f5-9079-93dd1cbf4d3d",
   "metadata": {},
   "outputs": [],
   "source": []
  }
 ],
 "metadata": {
  "kernelspec": {
   "display_name": "Python 3 (ipykernel)",
   "language": "python",
   "name": "python3"
  },
  "language_info": {
   "codemirror_mode": {
    "name": "ipython",
    "version": 3
   },
   "file_extension": ".py",
   "mimetype": "text/x-python",
   "name": "python",
   "nbconvert_exporter": "python",
   "pygments_lexer": "ipython3",
   "version": "3.10.10"
  }
 },
 "nbformat": 4,
 "nbformat_minor": 5
}
